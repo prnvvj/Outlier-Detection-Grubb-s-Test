{
 "cells": [
  {
   "cell_type": "markdown",
   "metadata": {},
   "source": [
    "## Outliers:\n",
    "An outlier is an observation that lies an abnormal distance from other values in a random sample from a population. Examination of the data for unusual observations that are far removed from the mass of data. These points are often referred to as outliers."
   ]
  },
  {
   "cell_type": "markdown",
   "metadata": {},
   "source": [
    "## Grubbs's Test:\n",
    "In statistics, Grubbs's test or the Grubbs test, also known as the maximum normalized residual test or extreme studentized deviate test, is a test used to detect outliers in a univariate data set assumed to come from a normally distributed population."
   ]
  },
  {
   "cell_type": "code",
   "execution_count": 1,
   "metadata": {},
   "outputs": [
    {
     "name": "stdout",
     "output_type": "stream",
     "text": [
      "Grubbs Calculated Value: 1.8619848603996851\n",
      "Grubbs Critical Value: 2.215004223325564\n",
      "From Grubbs's Test we observe that calculated value is lesser than critical value, Accept null hypothesis and conclude that\n",
      " There is no outliers.\n",
      "Grubbs Calculated Value: 2.533609428975575\n",
      "Grubbs Critical Value: 2.215004223325564\n",
      "From Grubbs's Test we observe that calculated value is greater than critical value, Reject null hypothesis and conclude that\n",
      " There is an outliers.\n"
     ]
    }
   ],
   "source": [
    "# ----- Functions for detectind the outliers using Grubbs's Test -----\n",
    "\n",
    "# Importing Dependencies ----------\n",
    "import numpy as np\n",
    "import scipy.stats as stats\n",
    "\n",
    "# Initializing arrays ----------\n",
    "list_one = np.array([11,16,21,12,23,50,42,28,34])\n",
    "list_two = np.array([11,16,21,12,23,50,42,28,105])\n",
    "\n",
    "# Defining Function for detecting Outliers ----------\n",
    "def grubbs_test(list_one):\n",
    "    length_of_array = len(list_one)\n",
    "    mean = np.mean(list_one)\n",
    "    std_deviation = np.std(list_one)\n",
    "    numerator = max(abs(list_one - mean))\n",
    "    grubb_calculated = numerator/std_deviation\n",
    "    print(\"Grubbs Calculated Value:\",grubb_calculated)\n",
    "    t_value = stats.t.ppf(1 - 0.05 / (2 * length_of_array), length_of_array - 2)\n",
    "    grubb_critical = ((length_of_array - 1) * np.sqrt(np.square(t_value))) / (np.sqrt(length_of_array) * np.sqrt(length_of_array - 2 + np.square(t_value)))\n",
    "    print(\"Grubbs Critical Value:\",grubb_critical)\n",
    "    \n",
    "    if grubb_critical > grubb_calculated:\n",
    "        print(\"From Grubbs's Test we observe that calculated value is lesser than critical value, Accept null hypothesis and conclude that\\n There is no outliers.\")\n",
    "    else:\n",
    "        print(\"From Grubbs's Test we observe that calculated value is greater than critical value, Reject null hypothesis and conclude that\\n There is an outliers.\")\n",
    "\n",
    "# Results of functions ----------\n",
    "grubbs_test(list_one)\n",
    "grubbs_test(list_two)"
   ]
  },
  {
   "cell_type": "markdown",
   "metadata": {},
   "source": [
    "### Function BreakDown:"
   ]
  },
  {
   "cell_type": "code",
   "execution_count": 2,
   "metadata": {},
   "outputs": [],
   "source": [
    "import numpy as np\n",
    "import scipy.stats as stats"
   ]
  },
  {
   "cell_type": "code",
   "execution_count": 3,
   "metadata": {},
   "outputs": [],
   "source": [
    "list_one = np.array([11,16,21,12,23,50,42,28,34])\n",
    "list_two = np.array([11,16,21,12,23,50,42,28,105])"
   ]
  },
  {
   "cell_type": "code",
   "execution_count": 4,
   "metadata": {},
   "outputs": [],
   "source": [
    "length_of_array = len(list_one)"
   ]
  },
  {
   "cell_type": "code",
   "execution_count": 5,
   "metadata": {},
   "outputs": [],
   "source": [
    "mean = np.mean(list_one)"
   ]
  },
  {
   "cell_type": "code",
   "execution_count": 6,
   "metadata": {},
   "outputs": [],
   "source": [
    "std_deviation = np.std(list_one)"
   ]
  },
  {
   "cell_type": "code",
   "execution_count": 7,
   "metadata": {},
   "outputs": [],
   "source": [
    "numerator = max(abs(list_one - mean))"
   ]
  },
  {
   "cell_type": "code",
   "execution_count": 8,
   "metadata": {},
   "outputs": [
    {
     "name": "stdout",
     "output_type": "stream",
     "text": [
      "Grubbs Calculated Value: 1.8619848603996851\n"
     ]
    }
   ],
   "source": [
    "grubb_calculated = numerator/std_deviation\n",
    "print(\"Grubbs Calculated Value:\",grubb_calculated)"
   ]
  },
  {
   "cell_type": "code",
   "execution_count": 9,
   "metadata": {},
   "outputs": [],
   "source": [
    "t_value = stats.t.ppf(1 - 0.05 / (2 * length_of_array), length_of_array - 2)"
   ]
  },
  {
   "cell_type": "code",
   "execution_count": 10,
   "metadata": {},
   "outputs": [
    {
     "name": "stdout",
     "output_type": "stream",
     "text": [
      "Grubbs Critical Value: 2.215004223325564\n"
     ]
    }
   ],
   "source": [
    "grubb_critical = ((length_of_array - 1) * np.sqrt(np.square(t_value))) / (np.sqrt(length_of_array) * np.sqrt(length_of_array - 2 + np.square(t_value)))\n",
    "print(\"Grubbs Critical Value:\",grubb_critical)"
   ]
  },
  {
   "cell_type": "code",
   "execution_count": 11,
   "metadata": {},
   "outputs": [
    {
     "name": "stdout",
     "output_type": "stream",
     "text": [
      "From Grubbs's Test we observe that calculated value is lesser than critical value, Accept null hypothesis and conclude that\n",
      " There is no outliers.\n"
     ]
    }
   ],
   "source": [
    "if grubb_critical > grubb_calculated:\n",
    "    print(\"From Grubbs's Test we observe that calculated value is lesser than critical value, Accept null hypothesis and conclude that\\n There is no outliers.\")\n",
    "else:\n",
    "    print(\"From Grubbs's Test we observe that calculated value is greater than critical value, Reject null hypothesis and conclude that\\n There is an outliers.\")"
   ]
  },
  {
   "cell_type": "code",
   "execution_count": null,
   "metadata": {},
   "outputs": [],
   "source": []
  }
 ],
 "metadata": {
  "kernelspec": {
   "display_name": "Python 3",
   "language": "python",
   "name": "python3"
  },
  "language_info": {
   "codemirror_mode": {
    "name": "ipython",
    "version": 3
   },
   "file_extension": ".py",
   "mimetype": "text/x-python",
   "name": "python",
   "nbconvert_exporter": "python",
   "pygments_lexer": "ipython3",
   "version": "3.8.5"
  }
 },
 "nbformat": 4,
 "nbformat_minor": 4
}
